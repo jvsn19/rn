{
 "cells": [
  {
   "cell_type": "code",
   "execution_count": 1,
   "metadata": {},
   "outputs": [
    {
     "name": "stderr",
     "output_type": "stream",
     "text": [
      "C:\\Users\\jvsn1\\Anaconda3\\envs\\python3_ri\\lib\\site-packages\\h5py\\__init__.py:36: FutureWarning: Conversion of the second argument of issubdtype from `float` to `np.floating` is deprecated. In future, it will be treated as `np.float64 == np.dtype(float).type`.\n",
      "  from ._conv import register_converters as _register_converters\n",
      "Using TensorFlow backend.\n"
     ]
    }
   ],
   "source": [
    "import pandas as pd\n",
    "import numpy as np\n",
    "from collections import Counter\n",
    "import matplotlib.pyplot as plt\n",
    "from keras.models import Sequential\n",
    "from keras.layers import Dense\n",
    "from keras.callbacks import EarlyStopping\n",
    "from keras.wrappers.scikit_learn import KerasClassifier\n",
    "from keras.optimizers import SGD\n",
    "from sklearn.model_selection import train_test_split\n",
    "from sklearn.metrics import confusion_matrix\n",
    "from sklearn.metrics import accuracy_score, recall_score, precision_score, f1_score\n",
    "from sklearn.metrics import roc_auc_score, average_precision_score\n",
    "from scipy.stats import ks_2samp\n",
    "from keras.wrappers.scikit_learn import KerasClassifier\n",
    "from sklearn.svm import SVC\n",
    "from sklearn.ensemble import GradientBoostingClassifier, RandomForestClassifier, VotingClassifier\n",
    "%matplotlib inline"
   ]
  },
  {
   "cell_type": "code",
   "execution_count": 2,
   "metadata": {},
   "outputs": [],
   "source": [
    "X_train_res = pd.read_csv('database/X_train_res.csv').drop(columns=['Unnamed: 0'])\n",
    "y_train_res = pd.read_csv('database/y_train_res.csv').drop(columns=['Unnamed: 0'])\n",
    "X_val = pd.read_csv('database/X_val.csv').drop(columns=['INDEX'])\n",
    "y_val = pd.read_csv('database/y_val.csv', names=['INDEX', 'IND_BOM_1_1']).drop(columns=['INDEX'])\n",
    "X_test = pd.read_csv('database/X_test.csv').drop(columns=['INDEX'])\n",
    "y_test = pd.read_csv('database/y_test.csv', names=['INDEX', 'IND_BOM_1_1']).drop(columns=['INDEX'])"
   ]
  },
  {
   "cell_type": "markdown",
   "metadata": {},
   "source": [
    "<h2>Variáveis e Métodos Auxiliares</h2>"
   ]
  },
  {
   "cell_type": "code",
   "execution_count": 3,
   "metadata": {},
   "outputs": [],
   "source": [
    "input_dim = len(list(X_train_res)) # Dimensão de entrada do dataset"
   ]
  },
  {
   "cell_type": "code",
   "execution_count": 67,
   "metadata": {},
   "outputs": [],
   "source": [
    "'''\n",
    "    * Método para calcular a distribuição acumulada das classes, de 0.0 a 1.0\n",
    "    * Utilizado para o cálculo do KS\n",
    "'''\n",
    "def calc_distr(y_true:pd.DataFrame, y_pred_proba:np.array):\n",
    "    ac_distr_0 = np.zeros(101)\n",
    "    ac_distr_1 = np.zeros(101)\n",
    "    count_classes = y_true['IND_BOM_1_1'].value_counts()\n",
    "    for i in range(1, 101):\n",
    "        lim = i/100.0\n",
    "        ac_classes = y_true[y_pred_proba <= lim]['IND_BOM_1_1'].value_counts()\n",
    "        ac_distr_0[i] += ac_classes.get(0, 0) \n",
    "        ac_distr_1[i] += ac_classes.get(1, 0)\n",
    "    return (ac_distr_0/count_classes[0], ac_distr_1/count_classes[1])"
   ]
  },
  {
   "cell_type": "code",
   "execution_count": 68,
   "metadata": {},
   "outputs": [],
   "source": [
    "'''\n",
    "    * Método para calcular as métricas a serem impressas\n",
    "'''\n",
    "\n",
    "def calc_metrics(y_true, y_pred, y_pred_proba):\n",
    "    cm = confusion_matrix(y_true, y_pred)\n",
    "    precision = precision_score(y_true, y_pred)\n",
    "    accuracy = accuracy_score(y_true, y_pred)\n",
    "    f1 = f1_score(y_true, y_pred)\n",
    "    recall = recall_score(y_true, y_pred)\n",
    "    metrics = {\n",
    "        'cm': cm,\n",
    "        'precision': precision,\n",
    "        'accuracy': accuracy,\n",
    "        'f1': f1,\n",
    "        'recall': recall\n",
    "    }\n",
    "    if not y_pred_proba is None:\n",
    "        ac_distr0, ac_distr1 = calc_distr(y_true, y_pred_proba)\n",
    "        ks = ks_2samp(ac_distr0, ac_distr1)\n",
    "        auroc = roc_auc_score(y_true, y_pred_proba)\n",
    "        aps = average_precision_score(y_true, y_pred_proba)\n",
    "        metrics['ks'] = ks[0]\n",
    "        metrics['auroc'] = auroc\n",
    "        metrics['aps'] = aps\n",
    "    return metrics"
   ]
  },
  {
   "cell_type": "code",
   "execution_count": 95,
   "metadata": {},
   "outputs": [],
   "source": [
    "'''\n",
    "    * Método para imprimir todas as métricas\n",
    "'''\n",
    "def print_metrics(metrics:dict):\n",
    "    print('Matriz de Confusão:', end='\\n\\n')\n",
    "    print(pd.DataFrame(metrics['cm'], columns=['T', 'F'], index=['T', 'F']), end='\\n\\n')\n",
    "    print('Área Sob Curva ROC: %.5f'%(metrics['auroc']), end = '\\n\\n')\n",
    "    print('KS-Score: %.5f'%(metrics['ks']), end='\\n\\n')\n",
    "    print('Precisão Média de Previsão: %.5f'%(metrics['aps']), end='\\n\\n')\n",
    "    print('Precisão: %.5f'%(metrics['precision']), end='\\n\\n')\n",
    "    print('Acurácia: %.5f'%(metrics['accuracy']), end='\\n\\n')\n",
    "    print('Recall: %.5f'%(metrics['recall']), end='\\n\\n')\n",
    "    print('F1-Score: %.5f'%(metrics['f1']), end='\\n\\n')"
   ]
  },
  {
   "cell_type": "markdown",
   "metadata": {},
   "source": [
    "<h2>Treinando MLPs</h2>\n",
    "<p>Para o treino de MLPs foram testadas diversas formas de otimizar hiperparâmetros como: learning rate, algoritmo de otimização, número de camadas escondidas, etc. A estimativa do learning rate e do número de camadas escondidas foi feita automaticamente a partir do conjunto de validação.</p>"
   ]
  },
  {
   "cell_type": "markdown",
   "metadata": {},
   "source": [
    "<h3>O MLP Básico</h3>\n",
    "<p>O MLP é montado com base na biblioteca Keras e segue uma estrutura básica:</p>\n",
    "<ul>\n",
    "    <li>O MLP em si é uma classe Sequential e nela serão adicionadas as camadas de entrada, saída e internas.</li>\n",
    "    <li>As camadas são uma classe Dense. Passamos para o construtor dessa classe o número de nodes, a função de ativação e, no caso de ser a primeira camada, a dimensão da entrada.</li>\n",
    "    <li>Antes de treinar o MLP, devemos compilar o mesmo e setar parâmetros como a função de otimização, algumas métricas opcionais como 'accuracy' e a função de perda, que retorna uma métrica para avaliarmos o MLP</li>\n",
    "    <li>Para treinarmos o modelo utilizaremos a função fit que recebe como parâmetros X sendo as amostras para treinamento, y sendo as classes de cada amostra, batch_size sendo o comprimento do batch utilizado no treinamento, o número de epochs sendo quantas vezes iremos dar entrada com o dataset para o treinamento, validation_data sendo os dados utilizados para validação e callbacks para pararmos o treinamento com certas condições.</li>\n",
    "</ul>\n",
    "<p>Para a primeira fase, procuraremos funções de ativação, número de nós na camada de entrada e função de otimização que melhorem o acerto no conjunto de validação</p>"
   ]
  },
  {
   "cell_type": "markdown",
   "metadata": {},
   "source": [
    "<h3>Estimando Hiperparâmetros</h3>\n",
    "<ul>\n",
    "    <li>Função de Ativação</li>\n",
    "    <li>Função de Otimização</li>\n",
    "    <li>Camadas escondidas</li>\n",
    "</ul>"
   ]
  },
  {
   "cell_type": "markdown",
   "metadata": {},
   "source": [
    "<h4>Número de Neurônios na Camada de Entrada</h4>\n",
    "<p>Incialmente verificamos se o número de neurônios na camada de entrada influencia muito na qualidade do MLP</p>"
   ]
  },
  {
   "cell_type": "markdown",
   "metadata": {},
   "source": [
    "<h5>20 Neurônios</h5>"
   ]
  },
  {
   "cell_type": "code",
   "execution_count": 93,
   "metadata": {},
   "outputs": [
    {
     "name": "stdout",
     "output_type": "stream",
     "text": [
      "Train on 307646 samples, validate on 26077 samples\n",
      "Epoch 1/100000\n",
      "307646/307646 [==============================] - 9s 29us/step - loss: 0.6387 - acc: 0.6346 - val_loss: 0.6335 - val_acc: 0.6313\n",
      "Epoch 2/100000\n",
      "307646/307646 [==============================] - 9s 29us/step - loss: 0.6231 - acc: 0.6514 - val_loss: 0.6689 - val_acc: 0.5912\n",
      "Epoch 3/100000\n",
      "307646/307646 [==============================] - 9s 28us/step - loss: 0.6143 - acc: 0.6597 - val_loss: 0.6380 - val_acc: 0.6244\n",
      "Epoch 4/100000\n",
      "307646/307646 [==============================] - 9s 29us/step - loss: 0.6057 - acc: 0.6688 - val_loss: 0.6385 - val_acc: 0.6253\n"
     ]
    }
   ],
   "source": [
    "mlp = Sequential()\n",
    "mlp.add(Dense(20, activation='tanh', input_dim=input_dim)) # Camada de entrada\n",
    "mlp.add(Dense(1, activation='sigmoid')) # Camada de saída\n",
    "mlp.compile(optimizer='adam', loss='binary_crossentropy', metrics=['acc'])\n",
    "history = mlp.fit(X_train_res, y_train_res, batch_size=64, epochs=100000, \n",
    "        callbacks=[EarlyStopping(patience=3)], validation_data=(X_val, y_val));\n",
    "y_pred = mlp.predict_classes(X_test)\n",
    "y_pred_proba = mlp.predict(X_test)"
   ]
  },
  {
   "cell_type": "code",
   "execution_count": 94,
   "metadata": {},
   "outputs": [
    {
     "name": "stdout",
     "output_type": "stream",
     "text": [
      "Matriz de Confusão:\n",
      "\n",
      "       T      F\n",
      "T  28819  15433\n",
      "F  31997  52186\n",
      "\n",
      "Área Sob Curva ROC: 0.68849\n",
      "\n",
      "KS-Score: 0.16832\n",
      "\n",
      "Precisão Média de Previsão: 0.79984\n",
      "\n",
      "Precisão: 0.77177\n",
      "\n",
      "Acurácia: 0.63071\n",
      "\n",
      "Recall: 0.61991\n",
      "\n",
      "F1-Score: 0.68755\n",
      "\n"
     ]
    }
   ],
   "source": [
    "metrics = calc_metrics(y_test, y_pred, y_pred_proba)\n",
    "print_metrics(metrics)"
   ]
  },
  {
   "cell_type": "markdown",
   "metadata": {},
   "source": [
    "<h5>40 Neurônios</h5>"
   ]
  },
  {
   "cell_type": "code",
   "execution_count": 99,
   "metadata": {},
   "outputs": [
    {
     "name": "stdout",
     "output_type": "stream",
     "text": [
      "Train on 307646 samples, validate on 26077 samples\n",
      "Epoch 1/100000\n",
      "307646/307646 [==============================] - 10s 32us/step - loss: 0.6369 - acc: 0.6379 - val_loss: 0.6550 - val_acc: 0.6046\n",
      "Epoch 2/100000\n",
      "307646/307646 [==============================] - 9s 29us/step - loss: 0.6201 - acc: 0.6548 - val_loss: 0.6331 - val_acc: 0.6281\n",
      "Epoch 3/100000\n",
      "307646/307646 [==============================] - 10s 34us/step - loss: 0.6097 - acc: 0.6657 - val_loss: 0.6417 - val_acc: 0.6207\n",
      "Epoch 4/100000\n",
      "307646/307646 [==============================] - 10s 33us/step - loss: 0.5991 - acc: 0.6751 - val_loss: 0.6366 - val_acc: 0.6317\n",
      "Epoch 5/100000\n",
      "307646/307646 [==============================] - 10s 33us/step - loss: 0.5875 - acc: 0.6839 - val_loss: 0.6165 - val_acc: 0.6538\n",
      "Epoch 6/100000\n",
      "307646/307646 [==============================] - 10s 31us/step - loss: 0.5757 - acc: 0.6926 - val_loss: 0.6332 - val_acc: 0.6391\n",
      "Epoch 7/100000\n",
      "307646/307646 [==============================] - 10s 31us/step - loss: 0.5622 - acc: 0.7012 - val_loss: 0.6118 - val_acc: 0.6638\n",
      "Epoch 8/100000\n",
      "307646/307646 [==============================] - 10s 32us/step - loss: 0.5523 - acc: 0.7059 - val_loss: 0.6222 - val_acc: 0.6523\n",
      "Epoch 9/100000\n",
      "307646/307646 [==============================] - 10s 31us/step - loss: 0.5451 - acc: 0.7100 - val_loss: 0.6362 - val_acc: 0.6415\n",
      "Epoch 10/100000\n",
      "307646/307646 [==============================] - 10s 32us/step - loss: 0.5402 - acc: 0.7134 - val_loss: 0.6460 - val_acc: 0.6306\n"
     ]
    }
   ],
   "source": [
    "mlp = Sequential()\n",
    "mlp.add(Dense(40, activation='tanh', input_dim=input_dim)) # Camada de entrada\n",
    "mlp.add(Dense(1, activation='sigmoid')) # Camada de saída\n",
    "mlp.compile(optimizer='adam', loss='binary_crossentropy', metrics=['acc'])\n",
    "history = mlp.fit(X_train_res, y_train_res, batch_size=64, epochs=100000, \n",
    "        callbacks=[EarlyStopping(patience=3)], validation_data=(X_val, y_val))\n",
    "y_pred = mlp.predict_classes(X_test)\n",
    "y_pred_proba = mlp.predict(X_test)"
   ]
  },
  {
   "cell_type": "code",
   "execution_count": 100,
   "metadata": {},
   "outputs": [
    {
     "name": "stdout",
     "output_type": "stream",
     "text": [
      "Matriz de Confusão:\n",
      "\n",
      "       T      F\n",
      "T  27008  17244\n",
      "F  30156  54027\n",
      "\n",
      "Área Sob Curva ROC: 0.67645\n",
      "\n",
      "KS-Score: 0.17822\n",
      "\n",
      "Precisão Média de Previsão: 0.79120\n",
      "\n",
      "Precisão: 0.75805\n",
      "\n",
      "Acurácia: 0.63094\n",
      "\n",
      "Recall: 0.64178\n",
      "\n",
      "F1-Score: 0.69509\n",
      "\n"
     ]
    }
   ],
   "source": [
    "metrics = calc_metrics(y_test, y_pred, y_pred_proba)\n",
    "print_metrics(metrics)"
   ]
  },
  {
   "cell_type": "markdown",
   "metadata": {},
   "source": [
    "<h5>80 Neurônios</h5>"
   ]
  },
  {
   "cell_type": "code",
   "execution_count": 101,
   "metadata": {},
   "outputs": [
    {
     "name": "stdout",
     "output_type": "stream",
     "text": [
      "Train on 307646 samples, validate on 26077 samples\n",
      "Epoch 1/100000\n",
      "307646/307646 [==============================] - 12s 39us/step - loss: 0.6355 - acc: 0.6380 - val_loss: 0.6120 - val_acc: 0.6508\n",
      "Epoch 2/100000\n",
      "307646/307646 [==============================] - 11s 34us/step - loss: 0.6180 - acc: 0.6563 - val_loss: 0.6181 - val_acc: 0.6480\n",
      "Epoch 3/100000\n",
      "307646/307646 [==============================] - 10s 34us/step - loss: 0.6053 - acc: 0.6696 - val_loss: 0.6299 - val_acc: 0.6390\n",
      "Epoch 4/100000\n",
      "307646/307646 [==============================] - 10s 34us/step - loss: 0.5898 - acc: 0.6834 - val_loss: 0.6581 - val_acc: 0.6121\n"
     ]
    }
   ],
   "source": [
    "mlp = Sequential()\n",
    "mlp.add(Dense(80, activation='tanh', input_dim=input_dim)) # Camada de entrada\n",
    "mlp.add(Dense(1, activation='sigmoid')) # Camada de saída\n",
    "mlp.compile(optimizer='adam', loss='binary_crossentropy', metrics=['acc'])\n",
    "history = mlp.fit(X_train_res, y_train_res, batch_size=64, epochs=100000, \n",
    "        callbacks=[EarlyStopping(patience=3)], validation_data=(X_val, y_val))\n",
    "y_pred = mlp.predict_classes(X_test)\n",
    "y_pred_proba = mlp.predict(X_test)"
   ]
  },
  {
   "cell_type": "code",
   "execution_count": 102,
   "metadata": {},
   "outputs": [
    {
     "name": "stdout",
     "output_type": "stream",
     "text": [
      "Matriz de Confusão:\n",
      "\n",
      "       T      F\n",
      "T  30713  13539\n",
      "F  35855  48328\n",
      "\n",
      "Área Sob Curva ROC: 0.68321\n",
      "\n",
      "KS-Score: 0.16832\n",
      "\n",
      "Precisão Média de Previsão: 0.79632\n",
      "\n",
      "Precisão: 0.78116\n",
      "\n",
      "Acurácia: 0.61542\n",
      "\n",
      "Recall: 0.57408\n",
      "\n",
      "F1-Score: 0.66180\n",
      "\n"
     ]
    }
   ],
   "source": [
    "metrics = calc_metrics(y_test, y_pred, y_pred_proba)\n",
    "print_metrics(metrics)"
   ]
  },
  {
   "cell_type": "markdown",
   "metadata": {},
   "source": [
    "<p>Analisando principalmente o KS, vemos que o melhor valor foi encontrado entre 20, 40 e 80 foi 40.</p>"
   ]
  },
  {
   "cell_type": "markdown",
   "metadata": {},
   "source": [
    "<h4>Função de Ativação na Camada de Entrada</h4>\n",
    "<p>Para problemas de classificação, as melhores funções de ativação são relu, sigmoid e tanh. Testaremos as 3 na camada de entrada</p>"
   ]
  },
  {
   "cell_type": "code",
   "execution_count": 105,
   "metadata": {},
   "outputs": [
    {
     "name": "stdout",
     "output_type": "stream",
     "text": [
      "Train on 307646 samples, validate on 26077 samples\n",
      "Epoch 1/100000\n",
      "307646/307646 [==============================] - 11s 36us/step - loss: 0.6415 - acc: 0.6330 - val_loss: 0.6468 - val_acc: 0.6175\n",
      "Epoch 2/100000\n",
      "307646/307646 [==============================] - 11s 35us/step - loss: 0.6288 - acc: 0.6459 - val_loss: 0.6457 - val_acc: 0.6172\n",
      "Epoch 3/100000\n",
      "307646/307646 [==============================] - 11s 36us/step - loss: 0.6197 - acc: 0.6554 - val_loss: 0.6231 - val_acc: 0.6424\n",
      "Epoch 4/100000\n",
      "307646/307646 [==============================] - 10s 32us/step - loss: 0.6120 - acc: 0.6629 - val_loss: 0.6573 - val_acc: 0.6046\n",
      "Epoch 5/100000\n",
      "307646/307646 [==============================] - 10s 33us/step - loss: 0.6032 - acc: 0.6713 - val_loss: 0.6338 - val_acc: 0.6275\n",
      "Epoch 6/100000\n",
      "307646/307646 [==============================] - 11s 35us/step - loss: 0.5940 - acc: 0.6796 - val_loss: 0.6350 - val_acc: 0.6302\n",
      "Matriz de Confusão:\n",
      "\n",
      "       T      F\n",
      "T  28250  16002\n",
      "F  31085  53098\n",
      "\n",
      "Área Sob Curva ROC: 0.68657\n",
      "\n",
      "KS-Score: 0.16832\n",
      "\n",
      "Precisão Média de Previsão: 0.80036\n",
      "\n",
      "Precisão: 0.76842\n",
      "\n",
      "Acurácia: 0.63338\n",
      "\n",
      "Recall: 0.63074\n",
      "\n",
      "F1-Score: 0.69281\n",
      "\n"
     ]
    }
   ],
   "source": [
    "mlp = Sequential()\n",
    "mlp.add(Dense(40, activation='sigmoid', input_dim=input_dim)) # Camada de entrada\n",
    "mlp.add(Dense(1, activation='sigmoid')) # Camada de saída\n",
    "mlp.compile(optimizer='adam', loss='binary_crossentropy', metrics=['acc'])\n",
    "history = mlp.fit(X_train_res, y_train_res, batch_size=64, epochs=100000, \n",
    "        callbacks=[EarlyStopping(patience=3)], validation_data=(X_val, y_val))\n",
    "y_pred = mlp.predict_classes(X_test)\n",
    "y_pred_proba = mlp.predict(X_test)\n",
    "metrics = calc_metrics(y_test, y_pred, y_pred_proba)\n",
    "print_metrics(metrics)"
   ]
  },
  {
   "cell_type": "code",
   "execution_count": 106,
   "metadata": {},
   "outputs": [
    {
     "name": "stdout",
     "output_type": "stream",
     "text": [
      "Train on 307646 samples, validate on 26077 samples\n",
      "Epoch 1/100000\n",
      "307646/307646 [==============================] - 11s 35us/step - loss: 0.6334 - acc: 0.6413 - val_loss: 0.6435 - val_acc: 0.6146\n",
      "Epoch 2/100000\n",
      "307646/307646 [==============================] - 10s 32us/step - loss: 0.6155 - acc: 0.6599 - val_loss: 0.6262 - val_acc: 0.6396\n",
      "Epoch 3/100000\n",
      "307646/307646 [==============================] - 10s 33us/step - loss: 0.6046 - acc: 0.6710 - val_loss: 0.6155 - val_acc: 0.6544\n",
      "Epoch 4/100000\n",
      "307646/307646 [==============================] - 10s 33us/step - loss: 0.5935 - acc: 0.6811 - val_loss: 0.6280 - val_acc: 0.6417\n",
      "Epoch 5/100000\n",
      "307646/307646 [==============================] - 11s 34us/step - loss: 0.5813 - acc: 0.6900 - val_loss: 0.6230 - val_acc: 0.6481\n",
      "Epoch 6/100000\n",
      "307646/307646 [==============================] - 10s 34us/step - loss: 0.5693 - acc: 0.6974 - val_loss: 0.6278 - val_acc: 0.6436\n",
      "Matriz de Confusão:\n",
      "\n",
      "       T      F\n",
      "T  23779  20473\n",
      "F  24781  59402\n",
      "\n",
      "Área Sob Curva ROC: 0.67655\n",
      "\n",
      "KS-Score: 0.15842\n",
      "\n",
      "Precisão Média de Previsão: 0.79258\n",
      "\n",
      "Precisão: 0.74369\n",
      "\n",
      "Acurácia: 0.64765\n",
      "\n",
      "Recall: 0.70563\n",
      "\n",
      "F1-Score: 0.72416\n",
      "\n"
     ]
    }
   ],
   "source": [
    "mlp = Sequential()\n",
    "mlp.add(Dense(40, activation='relu', input_dim=input_dim)) # Camada de entrada\n",
    "mlp.add(Dense(1, activation='sigmoid')) # Camada de saída\n",
    "mlp.compile(optimizer='adam', loss='binary_crossentropy', metrics=['acc'])\n",
    "history = mlp.fit(X_train_res, y_train_res, batch_size=64, epochs=100000, \n",
    "        callbacks=[EarlyStopping(patience=3)], validation_data=(X_val, y_val))\n",
    "y_pred = mlp.predict_classes(X_test)\n",
    "y_pred_proba = mlp.predict(X_test)\n",
    "metrics = calc_metrics(y_test, y_pred, y_pred_proba)\n",
    "print_metrics(metrics)"
   ]
  },
  {
   "cell_type": "markdown",
   "metadata": {},
   "source": [
    "<p>Modificando as funções de ativação na camada de entrada também não variou muito a perda média. Testamos então na camada de saída.</p>"
   ]
  },
  {
   "cell_type": "code",
   "execution_count": 109,
   "metadata": {},
   "outputs": [
    {
     "name": "stdout",
     "output_type": "stream",
     "text": [
      "Train on 307646 samples, validate on 26077 samples\n",
      "Epoch 1/100000\n",
      "307646/307646 [==============================] - 12s 38us/step - loss: 0.6548 - acc: 0.6216 - val_loss: 0.6407 - val_acc: 0.6270\n",
      "Epoch 2/100000\n",
      "307646/307646 [==============================] - 10s 34us/step - loss: 0.6361 - acc: 0.6396 - val_loss: 0.6450 - val_acc: 0.6157\n",
      "Epoch 3/100000\n",
      "307646/307646 [==============================] - 11s 35us/step - loss: 0.6277 - acc: 0.6478 - val_loss: 0.6353 - val_acc: 0.6309\n",
      "Epoch 4/100000\n",
      "307646/307646 [==============================] - 12s 37us/step - loss: 0.6207 - acc: 0.6547 - val_loss: 0.6765 - val_acc: 0.5865\n",
      "Epoch 5/100000\n",
      "307646/307646 [==============================] - 12s 37us/step - loss: 0.6211 - acc: 0.6576 - val_loss: 0.6312 - val_acc: 0.6332\n",
      "Epoch 6/100000\n",
      "307646/307646 [==============================] - 10s 33us/step - loss: 0.6126 - acc: 0.6636 - val_loss: 0.6460 - val_acc: 0.6197\n",
      "Epoch 7/100000\n",
      "307646/307646 [==============================] - 10s 32us/step - loss: 0.6079 - acc: 0.6662 - val_loss: 0.6378 - val_acc: 0.6240\n",
      "Epoch 8/100000\n",
      "307646/307646 [==============================] - 10s 34us/step - loss: 0.6022 - acc: 0.6708 - val_loss: 0.6482 - val_acc: 0.6219\n",
      "Matriz de Confusão:\n",
      "\n",
      "       T      F\n",
      "T  29404  14848\n",
      "F  33292  50891\n",
      "\n",
      "Área Sob Curva ROC: 0.68439\n",
      "\n",
      "KS-Score: 0.14851\n",
      "\n",
      "Precisão Média de Previsão: 0.79565\n",
      "\n",
      "Precisão: 0.77414\n",
      "\n",
      "Acurácia: 0.62518\n",
      "\n",
      "Recall: 0.60453\n",
      "\n",
      "F1-Score: 0.67890\n",
      "\n"
     ]
    }
   ],
   "source": [
    "mlp = Sequential()\n",
    "mlp.add(Dense(40, activation='sigmoid', input_dim=input_dim)) # Camada de entrada\n",
    "mlp.add(Dense(1, activation='relu')) # Camada de saída\n",
    "mlp.compile(optimizer='adam', loss='binary_crossentropy', metrics=['acc'])\n",
    "history = mlp.fit(X_train_res, y_train_res, batch_size=64, epochs=100000, \n",
    "        callbacks=[EarlyStopping(patience=3)], validation_data=(X_val, y_val))\n",
    "y_pred = mlp.predict_classes(X_test)\n",
    "y_pred_proba = mlp.predict(X_test)\n",
    "metrics = calc_metrics(y_test, y_pred, y_pred_proba)\n",
    "print_metrics(metrics)"
   ]
  },
  {
   "cell_type": "code",
   "execution_count": 110,
   "metadata": {},
   "outputs": [
    {
     "name": "stdout",
     "output_type": "stream",
     "text": [
      "Train on 307646 samples, validate on 26077 samples\n",
      "Epoch 1/100000\n",
      "307646/307646 [==============================] - 11s 37us/step - loss: 0.6469 - acc: 0.6278 - val_loss: 0.6213 - val_acc: 0.6521\n",
      "Epoch 2/100000\n",
      "307646/307646 [==============================] - 11s 36us/step - loss: 0.6326 - acc: 0.6435 - val_loss: 0.6249 - val_acc: 0.6352\n",
      "Epoch 3/100000\n",
      "307646/307646 [==============================] - 11s 35us/step - loss: 0.6201 - acc: 0.6552 - val_loss: 0.6700 - val_acc: 0.5987\n",
      "Epoch 4/100000\n",
      "307646/307646 [==============================] - 11s 36us/step - loss: 0.6084 - acc: 0.6661 - val_loss: 0.6036 - val_acc: 0.6640\n",
      "Epoch 5/100000\n",
      "307646/307646 [==============================] - 11s 36us/step - loss: 0.6007 - acc: 0.6730 - val_loss: 0.6454 - val_acc: 0.6307\n",
      "Epoch 6/100000\n",
      "307646/307646 [==============================] - 11s 37us/step - loss: 0.5907 - acc: 0.6777 - val_loss: 0.6273 - val_acc: 0.6432\n",
      "Epoch 7/100000\n",
      "307646/307646 [==============================] - 11s 34us/step - loss: 0.5802 - acc: 0.6851 - val_loss: 0.6212 - val_acc: 0.6448\n",
      "Matriz de Confusão:\n",
      "\n",
      "       T      F\n",
      "T  23635  20617\n",
      "F  24536  59647\n",
      "\n",
      "Área Sob Curva ROC: 0.67785\n",
      "\n",
      "KS-Score: 0.14851\n",
      "\n",
      "Precisão Média de Previsão: 0.79552\n",
      "\n",
      "Precisão: 0.74314\n",
      "\n",
      "Acurácia: 0.64844\n",
      "\n",
      "Recall: 0.70854\n",
      "\n",
      "F1-Score: 0.72543\n",
      "\n"
     ]
    }
   ],
   "source": [
    "mlp = Sequential()\n",
    "mlp.add(Dense(40, activation='sigmoid', input_dim=input_dim)) # Camada de entrada\n",
    "mlp.add(Dense(1, activation='tanh')) # Camada de saída\n",
    "mlp.compile(optimizer='adam', loss='binary_crossentropy', metrics=['acc'])\n",
    "history = mlp.fit(X_train_res, y_train_res, batch_size=64, epochs=100000, \n",
    "        callbacks=[EarlyStopping(patience=3)], validation_data=(X_val, y_val))\n",
    "y_pred = mlp.predict_classes(X_test)\n",
    "y_pred_proba = mlp.predict(X_test)\n",
    "metrics = calc_metrics(y_test, y_pred, y_pred_proba)\n",
    "print_metrics(metrics)"
   ]
  },
  {
   "cell_type": "markdown",
   "metadata": {},
   "source": [
    "<p>Os melhores valores de KS foram encontrados quando utilizando sigmoid em ambas as camadas.</p>"
   ]
  },
  {
   "cell_type": "markdown",
   "metadata": {},
   "source": [
    "<h4>Algoritmo de Otimização</h4>"
   ]
  },
  {
   "cell_type": "code",
   "execution_count": 112,
   "metadata": {},
   "outputs": [
    {
     "name": "stdout",
     "output_type": "stream",
     "text": [
      "Train on 307646 samples, validate on 26077 samples\n",
      "Epoch 1/100000\n",
      "307646/307646 [==============================] - 10s 34us/step - loss: 0.6426 - acc: 0.6317 - val_loss: 0.6671 - val_acc: 0.5993\n",
      "Epoch 2/100000\n",
      "307646/307646 [==============================] - 10s 31us/step - loss: 0.6338 - acc: 0.6411 - val_loss: 0.6487 - val_acc: 0.6130\n",
      "Epoch 3/100000\n",
      "307646/307646 [==============================] - 10s 32us/step - loss: 0.6261 - acc: 0.6489 - val_loss: 0.6361 - val_acc: 0.6243\n",
      "Epoch 4/100000\n",
      "307646/307646 [==============================] - 9s 31us/step - loss: 0.6206 - acc: 0.6537 - val_loss: 0.6452 - val_acc: 0.6168\n",
      "Epoch 5/100000\n",
      "307646/307646 [==============================] - 11s 35us/step - loss: 0.6158 - acc: 0.6582 - val_loss: 0.6328 - val_acc: 0.6317\n",
      "Epoch 6/100000\n",
      "307646/307646 [==============================] - 11s 36us/step - loss: 0.6104 - acc: 0.6651 - val_loss: 0.6223 - val_acc: 0.6439\n",
      "Epoch 7/100000\n",
      "307646/307646 [==============================] - 10s 32us/step - loss: 0.6043 - acc: 0.6702 - val_loss: 0.6357 - val_acc: 0.6281\n",
      "Epoch 8/100000\n",
      "307646/307646 [==============================] - 10s 32us/step - loss: 0.5975 - acc: 0.6757 - val_loss: 0.6274 - val_acc: 0.6387\n",
      "Epoch 9/100000\n",
      "307646/307646 [==============================] - 9s 30us/step - loss: 0.5904 - acc: 0.6824 - val_loss: 0.6240 - val_acc: 0.6421\n",
      "Matriz de Confusão:\n",
      "\n",
      "       T      F\n",
      "T  26973  17279\n",
      "F  28285  55898\n",
      "\n",
      "Área Sob Curva ROC: 0.69163\n",
      "\n",
      "KS-Score: 0.16832\n",
      "\n",
      "Precisão Média de Previsão: 0.80345\n",
      "\n",
      "Precisão: 0.76387\n",
      "\n",
      "Acurácia: 0.64524\n",
      "\n",
      "Recall: 0.66401\n",
      "\n",
      "F1-Score: 0.71045\n",
      "\n"
     ]
    }
   ],
   "source": [
    "mlp = Sequential()\n",
    "mlp.add(Dense(40, activation='sigmoid', input_dim=input_dim)) # Camada de entrada\n",
    "mlp.add(Dense(1, activation='sigmoid')) # Camada de saída\n",
    "mlp.compile(optimizer='adamax', loss='binary_crossentropy', metrics=['acc'])\n",
    "history = mlp.fit(X_train_res, y_train_res, batch_size=64, epochs=100000, \n",
    "        callbacks=[EarlyStopping(patience=3)], validation_data=(X_val, y_val))\n",
    "y_pred = mlp.predict_classes(X_test)\n",
    "y_pred_proba = mlp.predict(X_test)\n",
    "metrics = calc_metrics(y_test, y_pred, y_pred_proba)\n",
    "print_metrics(metrics)"
   ]
  },
  {
   "cell_type": "code",
   "execution_count": 113,
   "metadata": {},
   "outputs": [
    {
     "name": "stdout",
     "output_type": "stream",
     "text": [
      "Train on 307646 samples, validate on 26077 samples\n",
      "Epoch 1/100000\n",
      "307646/307646 [==============================] - 12s 39us/step - loss: 0.6441 - acc: 0.6289 - val_loss: 0.6761 - val_acc: 0.5868\n",
      "Epoch 2/100000\n",
      "307646/307646 [==============================] - 11s 37us/step - loss: 0.6361 - acc: 0.6388 - val_loss: 0.6389 - val_acc: 0.6240\n",
      "Epoch 3/100000\n",
      "307646/307646 [==============================] - 12s 39us/step - loss: 0.6294 - acc: 0.6454 - val_loss: 0.6431 - val_acc: 0.6180\n",
      "Epoch 4/100000\n",
      "307646/307646 [==============================] - 11s 37us/step - loss: 0.6229 - acc: 0.6510 - val_loss: 0.6224 - val_acc: 0.6392\n",
      "Epoch 5/100000\n",
      "307646/307646 [==============================] - 10s 32us/step - loss: 0.6176 - acc: 0.6568 - val_loss: 0.6476 - val_acc: 0.6163\n",
      "Epoch 6/100000\n",
      "307646/307646 [==============================] - 10s 32us/step - loss: 0.6123 - acc: 0.6623 - val_loss: 0.6334 - val_acc: 0.6315\n",
      "Epoch 7/100000\n",
      "307646/307646 [==============================] - 10s 34us/step - loss: 0.6058 - acc: 0.6692 - val_loss: 0.6244 - val_acc: 0.6419\n",
      "Matriz de Confusão:\n",
      "\n",
      "       T      F\n",
      "T  26668  17584\n",
      "F  27968  56215\n",
      "\n",
      "Área Sob Curva ROC: 0.68948\n",
      "\n",
      "KS-Score: 0.16832\n",
      "\n",
      "Precisão Média de Previsão: 0.80166\n",
      "\n",
      "Precisão: 0.76173\n",
      "\n",
      "Acurácia: 0.64533\n",
      "\n",
      "Recall: 0.66777\n",
      "\n",
      "F1-Score: 0.71166\n",
      "\n"
     ]
    }
   ],
   "source": [
    "mlp = Sequential()\n",
    "mlp.add(Dense(40, activation='sigmoid', input_dim=input_dim)) # Camada de entrada\n",
    "mlp.add(Dense(1, activation='sigmoid')) # Camada de saída\n",
    "mlp.compile(optimizer='adadelta', loss='binary_crossentropy', metrics=['acc'])\n",
    "history = mlp.fit(X_train_res, y_train_res, batch_size=64, epochs=100000, \n",
    "        callbacks=[EarlyStopping(patience=3)], validation_data=(X_val, y_val))\n",
    "y_pred = mlp.predict_classes(X_test)\n",
    "y_pred_proba = mlp.predict(X_test)\n",
    "metrics = calc_metrics(y_test, y_pred, y_pred_proba)\n",
    "print_metrics(metrics)"
   ]
  },
  {
   "cell_type": "code",
   "execution_count": 114,
   "metadata": {},
   "outputs": [
    {
     "name": "stdout",
     "output_type": "stream",
     "text": [
      "Train on 307646 samples, validate on 26077 samples\n",
      "Epoch 1/100000\n",
      "307646/307646 [==============================] - 12s 39us/step - loss: 0.6407 - acc: 0.6328 - val_loss: 0.6228 - val_acc: 0.6411\n",
      "Epoch 2/100000\n",
      "307646/307646 [==============================] - 11s 35us/step - loss: 0.6271 - acc: 0.6470 - val_loss: 0.6155 - val_acc: 0.6480\n",
      "Epoch 3/100000\n",
      "307646/307646 [==============================] - 11s 35us/step - loss: 0.6198 - acc: 0.6548 - val_loss: 0.6355 - val_acc: 0.6251\n",
      "Epoch 4/100000\n",
      "307646/307646 [==============================] - 11s 35us/step - loss: 0.6126 - acc: 0.6627 - val_loss: 0.6326 - val_acc: 0.6316\n",
      "Epoch 5/100000\n",
      "307646/307646 [==============================] - 11s 35us/step - loss: 0.6034 - acc: 0.6713 - val_loss: 0.6552 - val_acc: 0.6106\n",
      "Matriz de Confusão:\n",
      "\n",
      "       T      F\n",
      "T  31339  12913\n",
      "F  36753  47430\n",
      "\n",
      "Área Sob Curva ROC: 0.68871\n",
      "\n",
      "KS-Score: 0.17822\n",
      "\n",
      "Precisão Média de Previsão: 0.80183\n",
      "\n",
      "Precisão: 0.78601\n",
      "\n",
      "Acurácia: 0.61330\n",
      "\n",
      "Recall: 0.56342\n",
      "\n",
      "F1-Score: 0.65635\n",
      "\n"
     ]
    }
   ],
   "source": [
    "mlp = Sequential()\n",
    "mlp.add(Dense(40, activation='sigmoid', input_dim=input_dim)) # Camada de entrada\n",
    "mlp.add(Dense(1, activation='sigmoid')) # Camada de saída\n",
    "mlp.compile(optimizer='adam', loss='binary_crossentropy', metrics=['acc'])\n",
    "history = mlp.fit(X_train_res, y_train_res, batch_size=64, epochs=100000, \n",
    "        callbacks=[EarlyStopping(patience=3)], validation_data=(X_val, y_val))\n",
    "y_pred = mlp.predict_classes(X_test)\n",
    "y_pred_proba = mlp.predict(X_test)\n",
    "metrics = calc_metrics(y_test, y_pred, y_pred_proba)\n",
    "print_metrics(metrics)"
   ]
  },
  {
   "cell_type": "code",
   "execution_count": 115,
   "metadata": {},
   "outputs": [
    {
     "name": "stdout",
     "output_type": "stream",
     "text": [
      "Train on 307646 samples, validate on 26077 samples\n",
      "Epoch 1/100000\n",
      "307646/307646 [==============================] - 12s 38us/step - loss: 0.6752 - acc: 0.5822 - val_loss: 0.6623 - val_acc: 0.6026\n",
      "Epoch 2/100000\n",
      "307646/307646 [==============================] - 11s 35us/step - loss: 0.6548 - acc: 0.6202 - val_loss: 0.6635 - val_acc: 0.5985\n",
      "Epoch 3/100000\n",
      "307646/307646 [==============================] - 11s 35us/step - loss: 0.6478 - acc: 0.6265 - val_loss: 0.6440 - val_acc: 0.6219\n",
      "Epoch 4/100000\n",
      "307646/307646 [==============================] - 11s 34us/step - loss: 0.6444 - acc: 0.6297 - val_loss: 0.6501 - val_acc: 0.6134\n",
      "Epoch 5/100000\n",
      "307646/307646 [==============================] - 11s 37us/step - loss: 0.6422 - acc: 0.6323 - val_loss: 0.6505 - val_acc: 0.6126\n",
      "Epoch 6/100000\n",
      "307646/307646 [==============================] - 10s 34us/step - loss: 0.6407 - acc: 0.6342 - val_loss: 0.6384 - val_acc: 0.6256\n",
      "Epoch 7/100000\n",
      "307646/307646 [==============================] - 11s 35us/step - loss: 0.6396 - acc: 0.6353 - val_loss: 0.6452 - val_acc: 0.6172\n",
      "Epoch 8/100000\n",
      "307646/307646 [==============================] - 11s 35us/step - loss: 0.6388 - acc: 0.6363 - val_loss: 0.6441 - val_acc: 0.6193\n",
      "Epoch 9/100000\n",
      "307646/307646 [==============================] - 10s 34us/step - loss: 0.6382 - acc: 0.6373 - val_loss: 0.6466 - val_acc: 0.6159\n",
      "Matriz de Confusão:\n",
      "\n",
      "       T      F\n",
      "T  28785  15467\n",
      "F  33449  50734\n",
      "\n",
      "Área Sob Curva ROC: 0.67332\n",
      "\n",
      "KS-Score: 0.13861\n",
      "\n",
      "Precisão Média de Previsão: 0.78566\n",
      "\n",
      "Precisão: 0.76636\n",
      "\n",
      "Acurácia: 0.61914\n",
      "\n",
      "Recall: 0.60266\n",
      "\n",
      "F1-Score: 0.67473\n",
      "\n"
     ]
    }
   ],
   "source": [
    "mlp = Sequential()\n",
    "mlp.add(Dense(40, activation='sigmoid', input_dim=input_dim)) # Camada de entrada\n",
    "mlp.add(Dense(1, activation='sigmoid')) # Camada de saída\n",
    "mlp.compile(optimizer='sgd', loss='binary_crossentropy', metrics=['acc'])\n",
    "history = mlp.fit(X_train_res, y_train_res, batch_size=64, epochs=100000, \n",
    "        callbacks=[EarlyStopping(patience=3)], validation_data=(X_val, y_val))\n",
    "y_pred = mlp.predict_classes(X_test)\n",
    "y_pred_proba = mlp.predict(X_test)\n",
    "metrics = calc_metrics(y_test, y_pred, y_pred_proba)\n",
    "print_metrics(metrics)"
   ]
  },
  {
   "cell_type": "markdown",
   "metadata": {},
   "source": [
    "<p>Ambos algoritmos adamax e adadelta geraram ks semelhante, porém o adamax possui uma melhor aucroc, porém o adam gerou o melhor ks. SGD foi o pior algoritmo de otimização.</p>"
   ]
  },
  {
   "cell_type": "markdown",
   "metadata": {},
   "source": [
    "<h4>Camadas Escondidas</h4>"
   ]
  },
  {
   "cell_type": "code",
   "execution_count": 117,
   "metadata": {},
   "outputs": [],
   "source": [
    "hidden_nodes = 30"
   ]
  },
  {
   "cell_type": "code",
   "execution_count": 118,
   "metadata": {},
   "outputs": [
    {
     "name": "stdout",
     "output_type": "stream",
     "text": [
      "Train on 307646 samples, validate on 26077 samples\n",
      "Epoch 1/100000\n",
      "307646/307646 [==============================] - 12s 39us/step - loss: 0.6422 - acc: 0.6319 - val_loss: 0.6265 - val_acc: 0.6387\n",
      "Epoch 2/100000\n",
      "307646/307646 [==============================] - 10s 33us/step - loss: 0.6293 - acc: 0.6449 - val_loss: 0.6188 - val_acc: 0.6434\n",
      "Epoch 3/100000\n",
      "307646/307646 [==============================] - 10s 33us/step - loss: 0.6204 - acc: 0.6542 - val_loss: 0.6351 - val_acc: 0.6276\n",
      "Epoch 4/100000\n",
      "307646/307646 [==============================] - 10s 32us/step - loss: 0.6130 - acc: 0.6620 - val_loss: 0.6297 - val_acc: 0.6345\n",
      "Epoch 5/100000\n",
      "307646/307646 [==============================] - 10s 33us/step - loss: 0.6044 - acc: 0.6699 - val_loss: 0.6377 - val_acc: 0.6280\n",
      "Matriz de Confusão:\n",
      "\n",
      "       T      F\n",
      "T  29134  15118\n",
      "F  32139  52044\n",
      "\n",
      "Área Sob Curva ROC: 0.68977\n",
      "\n",
      "KS-Score: 0.16832\n",
      "\n",
      "Precisão Média de Previsão: 0.80174\n",
      "\n",
      "Precisão: 0.77490\n",
      "\n",
      "Acurácia: 0.63206\n",
      "\n",
      "Recall: 0.61822\n",
      "\n",
      "F1-Score: 0.68775\n",
      "\n",
      "Train on 307646 samples, validate on 26077 samples\n",
      "Epoch 1/100000\n",
      "307646/307646 [==============================] - 11s 37us/step - loss: 0.6386 - acc: 0.6350 - val_loss: 0.6516 - val_acc: 0.6026\n",
      "Epoch 2/100000\n",
      "307646/307646 [==============================] - 11s 37us/step - loss: 0.6213 - acc: 0.6526 - val_loss: 0.6453 - val_acc: 0.6130\n",
      "Epoch 3/100000\n",
      "307646/307646 [==============================] - 12s 40us/step - loss: 0.6125 - acc: 0.6624 - val_loss: 0.6240 - val_acc: 0.6431\n",
      "Epoch 4/100000\n",
      "307646/307646 [==============================] - 12s 39us/step - loss: 0.6025 - acc: 0.6725 - val_loss: 0.6382 - val_acc: 0.6296\n",
      "Epoch 5/100000\n",
      "307646/307646 [==============================] - 12s 38us/step - loss: 0.5914 - acc: 0.6825 - val_loss: 0.6395 - val_acc: 0.6273\n",
      "Epoch 6/100000\n",
      "307646/307646 [==============================] - 12s 38us/step - loss: 0.5800 - acc: 0.6899 - val_loss: 0.6289 - val_acc: 0.6433\n",
      "Matriz de Confusão:\n",
      "\n",
      "       T      F\n",
      "T  25319  18933\n",
      "F  26148  58035\n",
      "\n",
      "Área Sob Curva ROC: 0.68471\n",
      "\n",
      "KS-Score: 0.14851\n",
      "\n",
      "Precisão Média de Previsão: 0.79777\n",
      "\n",
      "Precisão: 0.75401\n",
      "\n",
      "Acurácia: 0.64900\n",
      "\n",
      "Recall: 0.68939\n",
      "\n",
      "F1-Score: 0.72026\n",
      "\n",
      "Train on 307646 samples, validate on 26077 samples\n",
      "Epoch 1/100000\n",
      "307646/307646 [==============================] - 13s 43us/step - loss: 0.6357 - acc: 0.6379 - val_loss: 0.6264 - val_acc: 0.6364\n",
      "Epoch 2/100000\n",
      "307646/307646 [==============================] - 12s 40us/step - loss: 0.6203 - acc: 0.6545 - val_loss: 0.6143 - val_acc: 0.6538\n",
      "Epoch 3/100000\n",
      "307646/307646 [==============================] - 13s 41us/step - loss: 0.6123 - acc: 0.6621 - val_loss: 0.6330 - val_acc: 0.6328\n",
      "Epoch 4/100000\n",
      "307646/307646 [==============================] - 12s 41us/step - loss: 0.6041 - acc: 0.6710 - val_loss: 0.6354 - val_acc: 0.6349\n",
      "Epoch 5/100000\n",
      "307646/307646 [==============================] - 13s 43us/step - loss: 0.5946 - acc: 0.6784 - val_loss: 0.6394 - val_acc: 0.6408\n",
      "Matriz de Confusão:\n",
      "\n",
      "       T      F\n",
      "T  26733  17519\n",
      "F  28153  56030\n",
      "\n",
      "Área Sob Curva ROC: 0.68906\n",
      "\n",
      "KS-Score: 0.16832\n",
      "\n",
      "Precisão Média de Previsão: 0.80141\n",
      "\n",
      "Precisão: 0.76181\n",
      "\n",
      "Acurácia: 0.64440\n",
      "\n",
      "Recall: 0.66557\n",
      "\n",
      "F1-Score: 0.71045\n",
      "\n",
      "Train on 307646 samples, validate on 26077 samples\n",
      "Epoch 1/100000\n",
      "307646/307646 [==============================] - 14s 44us/step - loss: 0.6392 - acc: 0.6337 - val_loss: 0.6110 - val_acc: 0.6538\n",
      "Epoch 2/100000\n",
      "307646/307646 [==============================] - 13s 41us/step - loss: 0.6222 - acc: 0.6529 - val_loss: 0.6249 - val_acc: 0.6426\n",
      "Epoch 3/100000\n",
      "307646/307646 [==============================] - 13s 41us/step - loss: 0.6133 - acc: 0.6609 - val_loss: 0.6307 - val_acc: 0.6386\n",
      "Epoch 4/100000\n",
      "307646/307646 [==============================] - 13s 41us/step - loss: 0.6025 - acc: 0.6727 - val_loss: 0.6159 - val_acc: 0.6559\n",
      "Matriz de Confusão:\n",
      "\n",
      "       T      F\n",
      "T  24077  20175\n",
      "F  23845  60338\n",
      "\n",
      "Área Sob Curva ROC: 0.69051\n",
      "\n",
      "KS-Score: 0.17822\n",
      "\n",
      "Precisão Média de Previsão: 0.80353\n",
      "\n",
      "Precisão: 0.74942\n",
      "\n",
      "Acurácia: 0.65726\n",
      "\n",
      "Recall: 0.71675\n",
      "\n",
      "F1-Score: 0.73272\n",
      "\n",
      "Train on 307646 samples, validate on 26077 samples\n",
      "Epoch 1/100000\n",
      "307646/307646 [==============================] - 14s 47us/step - loss: 0.6389 - acc: 0.6340 - val_loss: 0.6468 - val_acc: 0.6173\n",
      "Epoch 2/100000\n",
      "307646/307646 [==============================] - 14s 45us/step - loss: 0.6223 - acc: 0.6525 - val_loss: 0.6482 - val_acc: 0.6083\n",
      "Epoch 3/100000\n",
      "307646/307646 [==============================] - 14s 44us/step - loss: 0.6138 - acc: 0.6606 - val_loss: 0.6463 - val_acc: 0.6186\n",
      "Epoch 4/100000\n",
      "307646/307646 [==============================] - 13s 44us/step - loss: 0.6045 - acc: 0.6703 - val_loss: 0.6158 - val_acc: 0.6468\n",
      "Epoch 5/100000\n",
      "307646/307646 [==============================] - 14s 44us/step - loss: 0.5925 - acc: 0.6801 - val_loss: 0.6254 - val_acc: 0.6456\n",
      "Epoch 6/100000\n",
      "307646/307646 [==============================] - 13s 44us/step - loss: 0.5780 - acc: 0.6883 - val_loss: 0.6119 - val_acc: 0.6621\n",
      "Epoch 7/100000\n",
      "307646/307646 [==============================] - 13s 44us/step - loss: 0.5648 - acc: 0.6957 - val_loss: 0.6439 - val_acc: 0.6306\n",
      "Epoch 8/100000\n",
      "307646/307646 [==============================] - 13s 44us/step - loss: 0.5572 - acc: 0.6991 - val_loss: 0.6254 - val_acc: 0.6424\n",
      "Epoch 9/100000\n",
      "307646/307646 [==============================] - 14s 44us/step - loss: 0.5514 - acc: 0.7032 - val_loss: 0.6130 - val_acc: 0.6554\n",
      "Matriz de Confusão:\n",
      "\n",
      "       T      F\n",
      "T  23527  20725\n",
      "F  23216  60967\n",
      "\n",
      "Área Sob Curva ROC: 0.68910\n",
      "\n",
      "KS-Score: 0.16832\n",
      "\n",
      "Precisão Média de Previsão: 0.80378\n",
      "\n",
      "Precisão: 0.74630\n",
      "\n",
      "Acurácia: 0.65787\n",
      "\n",
      "Recall: 0.72422\n",
      "\n",
      "F1-Score: 0.73510\n",
      "\n",
      "Train on 307646 samples, validate on 26077 samples\n",
      "Epoch 1/100000\n",
      "307646/307646 [==============================] - 15s 49us/step - loss: 0.6367 - acc: 0.6370 - val_loss: 0.6420 - val_acc: 0.6212\n",
      "Epoch 2/100000\n",
      "307646/307646 [==============================] - 16s 51us/step - loss: 0.6197 - acc: 0.6545 - val_loss: 0.6552 - val_acc: 0.6054\n",
      "Epoch 3/100000\n",
      "307646/307646 [==============================] - 15s 50us/step - loss: 0.6081 - acc: 0.6673 - val_loss: 0.6461 - val_acc: 0.6253\n",
      "Epoch 4/100000\n",
      "307646/307646 [==============================] - 15s 47us/step - loss: 0.5946 - acc: 0.6765 - val_loss: 0.6367 - val_acc: 0.6446\n",
      "Epoch 5/100000\n",
      "307646/307646 [==============================] - 15s 47us/step - loss: 0.5827 - acc: 0.6847 - val_loss: 0.6102 - val_acc: 0.6611\n",
      "Epoch 6/100000\n",
      "307646/307646 [==============================] - 15s 47us/step - loss: 0.5752 - acc: 0.6889 - val_loss: 0.6283 - val_acc: 0.6500\n",
      "Epoch 7/100000\n",
      "307646/307646 [==============================] - 15s 48us/step - loss: 0.5667 - acc: 0.6940 - val_loss: 0.6472 - val_acc: 0.6334\n",
      "Epoch 8/100000\n",
      "307646/307646 [==============================] - 15s 48us/step - loss: 0.5606 - acc: 0.6989 - val_loss: 0.6412 - val_acc: 0.6392\n",
      "Matriz de Confusão:\n",
      "\n",
      "       T      F\n",
      "T  26880  17372\n",
      "F  28865  55318\n",
      "\n",
      "Área Sob Curva ROC: 0.68600\n",
      "\n",
      "KS-Score: 0.18812\n",
      "\n",
      "Precisão Média de Previsão: 0.80143\n",
      "\n",
      "Precisão: 0.76101\n",
      "\n",
      "Acurácia: 0.64000\n",
      "\n",
      "Recall: 0.65712\n",
      "\n",
      "F1-Score: 0.70526\n",
      "\n"
     ]
    }
   ],
   "source": [
    "for hidden_layers in range(6):\n",
    "    mlp = Sequential()\n",
    "    mlp.add(Dense(40, activation='sigmoid', input_dim=input_dim)) # Camada de entrada\n",
    "    for i in range(hidden_layers):\n",
    "        mlp.add(Dense(hidden_nodes, activation='relu', input_dim=input_dim))\n",
    "    mlp.add(Dense(1, activation='sigmoid')) # Camada de saída\n",
    "    mlp.compile(optimizer='adam', loss='binary_crossentropy', metrics=['acc'])\n",
    "    history = mlp.fit(X_train_res, y_train_res, batch_size=64, epochs=100000, \n",
    "            callbacks=[EarlyStopping(patience=3)], validation_data=(X_val, y_val))\n",
    "    y_pred = mlp.predict_classes(X_test)\n",
    "    y_pred_proba = mlp.predict(X_test)\n",
    "    metrics = calc_metrics(y_test, y_pred, y_pred_proba)\n",
    "    print_metrics(metrics)"
   ]
  },
  {
   "cell_type": "markdown",
   "metadata": {},
   "source": [
    "<p>O maior KS foi obtido com 5 camadas escondidas, cada uma com 30 neurônios</p>"
   ]
  },
  {
   "cell_type": "code",
   "execution_count": 122,
   "metadata": {},
   "outputs": [
    {
     "name": "stdout",
     "output_type": "stream",
     "text": [
      "Train on 307646 samples, validate on 26077 samples\n",
      "Epoch 1/100000\n",
      "307646/307646 [==============================] - 18s 59us/step - loss: 0.6386 - acc: 0.6344 - val_loss: 0.6257 - val_acc: 0.6315\n",
      "Epoch 2/100000\n",
      "307646/307646 [==============================] - 17s 55us/step - loss: 0.6214 - acc: 0.6534 - val_loss: 0.6287 - val_acc: 0.6320\n",
      "Epoch 3/100000\n",
      "307646/307646 [==============================] - 16s 51us/step - loss: 0.6115 - acc: 0.6635 - val_loss: 0.6265 - val_acc: 0.6358\n",
      "Epoch 4/100000\n",
      "307646/307646 [==============================] - 16s 51us/step - loss: 0.6024 - acc: 0.6729 - val_loss: 0.6241 - val_acc: 0.6428\n",
      "Epoch 5/100000\n",
      "307646/307646 [==============================] - 16s 51us/step - loss: 0.5917 - acc: 0.6816 - val_loss: 0.6138 - val_acc: 0.6561\n",
      "Epoch 6/100000\n",
      "307646/307646 [==============================] - 16s 51us/step - loss: 0.5796 - acc: 0.6893 - val_loss: 0.6357 - val_acc: 0.6437\n",
      "Epoch 7/100000\n",
      "307646/307646 [==============================] - 16s 51us/step - loss: 0.5680 - acc: 0.6950 - val_loss: 0.6988 - val_acc: 0.5931\n",
      "Epoch 8/100000\n",
      "307646/307646 [==============================] - 16s 52us/step - loss: 0.5584 - acc: 0.7002 - val_loss: 0.6153 - val_acc: 0.6607\n",
      "Matriz de Confusão:\n",
      "\n",
      "       T      F\n",
      "T  20555  23697\n",
      "F  19407  64776\n",
      "\n",
      "Área Sob Curva ROC: 0.68549\n",
      "\n",
      "KS-Score: 0.14851\n",
      "\n",
      "Precisão Média de Previsão: 0.80018\n",
      "\n",
      "Precisão: 0.73216\n",
      "\n",
      "Acurácia: 0.66439\n",
      "\n",
      "Recall: 0.76947\n",
      "\n",
      "F1-Score: 0.75035\n",
      "\n"
     ]
    }
   ],
   "source": [
    "mlp = Sequential()\n",
    "mlp.add(Dense(40, activation='sigmoid', input_dim=input_dim)) # Camada de entrada\n",
    "for i in range(5):\n",
    "    mlp.add(Dense(hidden_nodes, activation='relu', input_dim=input_dim))\n",
    "mlp.add(Dense(1, activation='sigmoid')) # Camada de saída\n",
    "mlp.compile(optimizer='adam', loss='binary_crossentropy', metrics=['acc'])\n",
    "history = mlp.fit(X_train_res, y_train_res, batch_size=64, epochs=100000, \n",
    "        callbacks=[EarlyStopping(patience=3)], validation_data=(X_val, y_val))\n",
    "y_pred = mlp.predict_classes(X_test)\n",
    "y_pred_proba = mlp.predict(X_test)\n",
    "metrics = calc_metrics(y_test, y_pred, y_pred_proba)\n",
    "print_metrics(metrics)"
   ]
  },
  {
   "cell_type": "code",
   "execution_count": 123,
   "metadata": {},
   "outputs": [
    {
     "name": "stdout",
     "output_type": "stream",
     "text": [
      "Train on 307646 samples, validate on 26077 samples\n",
      "Epoch 1/100000\n",
      "307646/307646 [==============================] - 17s 56us/step - loss: 0.1074 - acc: 0.6227 - val_loss: 0.1077 - val_acc: 0.5624\n",
      "Epoch 2/100000\n",
      "307646/307646 [==============================] - 18s 58us/step - loss: 0.1039 - acc: 0.6418 - val_loss: 0.1045 - val_acc: 0.5944\n",
      "Epoch 3/100000\n",
      "307646/307646 [==============================] - 17s 57us/step - loss: 0.1019 - acc: 0.6529 - val_loss: 0.1073 - val_acc: 0.5827\n",
      "Epoch 4/100000\n",
      "307646/307646 [==============================] - 16s 52us/step - loss: 0.0993 - acc: 0.6641 - val_loss: 0.1063 - val_acc: 0.5944\n",
      "Epoch 5/100000\n",
      "307646/307646 [==============================] - 17s 55us/step - loss: 0.0968 - acc: 0.6712 - val_loss: 0.1056 - val_acc: 0.6108\n",
      "Matriz de Confusão:\n",
      "\n",
      "       T      F\n",
      "T  30939  13313\n",
      "F  36229  47954\n",
      "\n",
      "Área Sob Curva ROC: 0.68923\n",
      "\n",
      "KS-Score: 0.20792\n",
      "\n",
      "Precisão Média de Previsão: 0.80262\n",
      "\n",
      "Precisão: 0.78271\n",
      "\n",
      "Acurácia: 0.61426\n",
      "\n",
      "Recall: 0.56964\n",
      "\n",
      "F1-Score: 0.65939\n",
      "\n"
     ]
    }
   ],
   "source": [
    "mlp = Sequential()\n",
    "mlp.add(Dense(40, activation='sigmoid', input_dim=input_dim)) # Camada de entrada\n",
    "for i in range(5):\n",
    "    mlp.add(Dense(hidden_nodes, activation='relu', input_dim=input_dim))\n",
    "mlp.add(Dense(1, activation='sigmoid')) # Camada de saída\n",
    "mlp.compile(optimizer='adam', loss='mean_squared_logarithmic_error', metrics=['acc'])\n",
    "history = mlp.fit(X_train_res, y_train_res, batch_size=64, epochs=100000, \n",
    "        callbacks=[EarlyStopping(patience=3)], validation_data=(X_val, y_val))\n",
    "y_pred = mlp.predict_classes(X_test)\n",
    "y_pred_proba = mlp.predict(X_test)\n",
    "metrics = calc_metrics(y_test, y_pred, y_pred_proba)\n",
    "print_metrics(metrics)"
   ]
  },
  {
   "cell_type": "code",
   "execution_count": 127,
   "metadata": {},
   "outputs": [
    {
     "name": "stdout",
     "output_type": "stream",
     "text": [
      "Train on 307646 samples, validate on 26077 samples\n",
      "Epoch 1/100000\n",
      "307646/307646 [==============================] - 20s 65us/step - loss: 0.1072 - acc: 0.6233 - val_loss: 0.1056 - val_acc: 0.5686\n",
      "Epoch 2/100000\n",
      "307646/307646 [==============================] - 17s 55us/step - loss: 0.1039 - acc: 0.6415 - val_loss: 0.1050 - val_acc: 0.5929\n",
      "Epoch 3/100000\n",
      "307646/307646 [==============================] - 17s 55us/step - loss: 0.1022 - acc: 0.6501 - val_loss: 0.1062 - val_acc: 0.5956\n",
      "Epoch 4/100000\n",
      "307646/307646 [==============================] - 17s 55us/step - loss: 0.1005 - acc: 0.6592 - val_loss: 0.1044 - val_acc: 0.6028\n",
      "Epoch 5/100000\n",
      "307646/307646 [==============================] - 17s 55us/step - loss: 0.0985 - acc: 0.6675 - val_loss: 0.1039 - val_acc: 0.5990\n",
      "Epoch 6/100000\n",
      "307646/307646 [==============================] - 17s 55us/step - loss: 0.0960 - acc: 0.6770 - val_loss: 0.1064 - val_acc: 0.6107\n",
      "Epoch 7/100000\n",
      "307646/307646 [==============================] - 17s 56us/step - loss: 0.0938 - acc: 0.6835 - val_loss: 0.1060 - val_acc: 0.5924\n",
      "Epoch 8/100000\n",
      "307646/307646 [==============================] - 17s 55us/step - loss: 0.0921 - acc: 0.6894 - val_loss: 0.1002 - val_acc: 0.6524\n",
      "Epoch 9/100000\n",
      "307646/307646 [==============================] - 17s 55us/step - loss: 0.0910 - acc: 0.6928 - val_loss: 0.1020 - val_acc: 0.6166\n",
      "Epoch 10/100000\n",
      "307646/307646 [==============================] - 17s 56us/step - loss: 0.0900 - acc: 0.6970 - val_loss: 0.1045 - val_acc: 0.6118\n",
      "Epoch 11/100000\n",
      "307646/307646 [==============================] - 17s 56us/step - loss: 0.0894 - acc: 0.7005 - val_loss: 0.1054 - val_acc: 0.6087\n",
      "Matriz de Confusão:\n",
      "\n",
      "       T      F\n",
      "T  31263  12989\n",
      "F  36776  47407\n",
      "\n",
      "Área Sob Curva ROC: 0.68666\n",
      "\n",
      "KS-Score: 0.18812\n",
      "\n",
      "Precisão Média de Previsão: 0.80120\n",
      "\n",
      "Precisão: 0.78494\n",
      "\n",
      "Acurácia: 0.61253\n",
      "\n",
      "Recall: 0.56314\n",
      "\n",
      "F1-Score: 0.65579\n",
      "\n"
     ]
    }
   ],
   "source": [
    "mlp = Sequential()\n",
    "mlp.add(Dense(40, activation='sigmoid', input_dim=input_dim)) # Camada de entrada\n",
    "for i in range(5):\n",
    "    mlp.add(Dense(hidden_nodes, activation='relu', input_dim=input_dim))\n",
    "mlp.add(Dense(1, activation='sigmoid')) # Camada de saída\n",
    "mlp.compile(optimizer='adam', loss='mean_squared_logarithmic_error', metrics=['acc'])\n",
    "history = mlp.fit(X_train_res, y_train_res, batch_size=64, epochs=100000, \n",
    "        callbacks=[EarlyStopping(patience=3)], validation_data=(X_val, y_val))\n",
    "y_pred = mlp.predict_classes(X_test)\n",
    "y_pred_proba = mlp.predict(X_test)\n",
    "metrics = calc_metrics(y_test, y_pred, y_pred_proba)\n",
    "print_metrics(metrics)"
   ]
  },
  {
   "cell_type": "markdown",
   "metadata": {},
   "source": [
    "<h4>Batch Size</h4>"
   ]
  },
  {
   "cell_type": "code",
   "execution_count": 131,
   "metadata": {},
   "outputs": [
    {
     "name": "stdout",
     "output_type": "stream",
     "text": [
      "Train on 307646 samples, validate on 26077 samples\n",
      "Epoch 1/100000\n",
      "307646/307646 [==============================] - 32s 104us/step - loss: 0.1072 - acc: 0.6230 - val_loss: 0.1094 - val_acc: 0.5573\n",
      "Epoch 2/100000\n",
      "307646/307646 [==============================] - 29s 93us/step - loss: 0.1035 - acc: 0.6433 - val_loss: 0.1093 - val_acc: 0.5700\n",
      "Epoch 3/100000\n",
      "307646/307646 [==============================] - 28s 90us/step - loss: 0.1009 - acc: 0.6559 - val_loss: 0.1120 - val_acc: 0.5802\n",
      "Epoch 4/100000\n",
      "307646/307646 [==============================] - 28s 90us/step - loss: 0.0982 - acc: 0.6673 - val_loss: 0.1060 - val_acc: 0.6174\n",
      "Epoch 5/100000\n",
      "307646/307646 [==============================] - 28s 89us/step - loss: 0.0958 - acc: 0.6779 - val_loss: 0.1039 - val_acc: 0.6208\n",
      "Epoch 6/100000\n",
      "307646/307646 [==============================] - 28s 92us/step - loss: 0.0938 - acc: 0.6842 - val_loss: 0.1028 - val_acc: 0.6156\n",
      "Epoch 7/100000\n",
      "307646/307646 [==============================] - 28s 90us/step - loss: 0.0924 - acc: 0.6887 - val_loss: 0.1047 - val_acc: 0.6144\n",
      "Epoch 8/100000\n",
      "307646/307646 [==============================] - 30s 98us/step - loss: 0.0913 - acc: 0.6927 - val_loss: 0.1067 - val_acc: 0.6075\n",
      "Epoch 9/100000\n",
      "307646/307646 [==============================] - 37s 120us/step - loss: 0.0905 - acc: 0.6964 - val_loss: 0.1007 - val_acc: 0.6391\n",
      "Epoch 10/100000\n",
      "307646/307646 [==============================] - 37s 120us/step - loss: 0.0898 - acc: 0.7000 - val_loss: 0.1044 - val_acc: 0.6311\n",
      "Epoch 11/100000\n",
      "307646/307646 [==============================] - 39s 127us/step - loss: 0.0892 - acc: 0.7009 - val_loss: 0.1012 - val_acc: 0.6362\n",
      "Epoch 12/100000\n",
      "307646/307646 [==============================] - 33s 106us/step - loss: 0.0886 - acc: 0.7044 - val_loss: 0.1004 - val_acc: 0.6385\n",
      "Epoch 13/100000\n",
      "307646/307646 [==============================] - 31s 102us/step - loss: 0.0881 - acc: 0.7040 - val_loss: 0.1023 - val_acc: 0.6149\n",
      "Epoch 14/100000\n",
      "307646/307646 [==============================] - 31s 102us/step - loss: 0.0876 - acc: 0.7075 - val_loss: 0.1012 - val_acc: 0.6311\n",
      "Epoch 15/100000\n",
      "307646/307646 [==============================] - 31s 102us/step - loss: 0.0869 - acc: 0.7101 - val_loss: 0.1016 - val_acc: 0.6382\n",
      "Matriz de Confusão:\n",
      "\n",
      "       T      F\n",
      "T  25384  18868\n",
      "F  26810  57373\n",
      "\n",
      "Área Sob Curva ROC: 0.68238\n",
      "\n",
      "KS-Score: 0.15842\n",
      "\n",
      "Precisão Média de Previsão: 0.79843\n",
      "\n",
      "Precisão: 0.75252\n",
      "\n",
      "Acurácia: 0.64435\n",
      "\n",
      "Recall: 0.68153\n",
      "\n",
      "F1-Score: 0.71527\n",
      "\n"
     ]
    }
   ],
   "source": [
    "mlp = Sequential()\n",
    "mlp.add(Dense(40, activation='sigmoid', input_dim=input_dim)) # Camada de entrada\n",
    "for i in range(5):\n",
    "    mlp.add(Dense(hidden_nodes, activation='relu', input_dim=input_dim))\n",
    "mlp.add(Dense(1, activation='sigmoid')) # Camada de saída\n",
    "mlp.compile(optimizer='adam', loss='mean_squared_logarithmic_error', metrics=['acc'])\n",
    "history = mlp.fit(X_train_res, y_train_res, batch_size=32, epochs=100000, \n",
    "        callbacks=[EarlyStopping(patience=3)], validation_data=(X_val, y_val))\n",
    "y_pred = mlp.predict_classes(X_test)\n",
    "y_pred_proba = mlp.predict(X_test)\n",
    "metrics = calc_metrics(y_test, y_pred, y_pred_proba)\n",
    "print_metrics(metrics)"
   ]
  },
  {
   "cell_type": "code",
   "execution_count": 6,
   "metadata": {},
   "outputs": [
    {
     "name": "stdout",
     "output_type": "stream",
     "text": [
      "Train on 307646 samples, validate on 26077 samples\n",
      "Epoch 1/100000\n",
      "307646/307646 [==============================] - 17s 54us/step - loss: 0.6336 - acc: 0.6397 - val_loss: 0.6490 - val_acc: 0.6185\n",
      "Epoch 2/100000\n",
      "307646/307646 [==============================] - 13s 44us/step - loss: 0.6129 - acc: 0.6631 - val_loss: 0.6194 - val_acc: 0.6510\n",
      "Epoch 3/100000\n",
      "307646/307646 [==============================] - 13s 44us/step - loss: 0.5956 - acc: 0.6755 - val_loss: 0.6396 - val_acc: 0.6322\n",
      "Epoch 4/100000\n",
      "307646/307646 [==============================] - 14s 45us/step - loss: 0.5794 - acc: 0.6849 - val_loss: 0.6212 - val_acc: 0.6556\n",
      "Epoch 5/100000\n",
      "307646/307646 [==============================] - 14s 44us/step - loss: 0.5684 - acc: 0.6916 - val_loss: 0.6170 - val_acc: 0.6552\n",
      "Epoch 6/100000\n",
      "307646/307646 [==============================] - 14s 46us/step - loss: 0.5604 - acc: 0.6960 - val_loss: 0.6316 - val_acc: 0.6452\n",
      "Epoch 7/100000\n",
      "307646/307646 [==============================] - 14s 44us/step - loss: 0.5559 - acc: 0.6983 - val_loss: 0.6113 - val_acc: 0.6617\n",
      "Epoch 8/100000\n",
      "307646/307646 [==============================] - 14s 45us/step - loss: 0.5535 - acc: 0.7003 - val_loss: 0.6153 - val_acc: 0.6605\n",
      "Epoch 9/100000\n",
      "307646/307646 [==============================] - 13s 44us/step - loss: 0.5513 - acc: 0.7013 - val_loss: 0.6112 - val_acc: 0.6663\n",
      "Epoch 10/100000\n",
      "307646/307646 [==============================] - 14s 45us/step - loss: 0.5501 - acc: 0.7022 - val_loss: 0.6108 - val_acc: 0.6670\n",
      "Epoch 11/100000\n",
      "307646/307646 [==============================] - 14s 44us/step - loss: 0.5493 - acc: 0.7036 - val_loss: 0.6060 - val_acc: 0.6676\n",
      "Epoch 12/100000\n",
      "307646/307646 [==============================] - 14s 46us/step - loss: 0.5484 - acc: 0.7045 - val_loss: 0.6216 - val_acc: 0.6518\n",
      "Epoch 13/100000\n",
      "307646/307646 [==============================] - 14s 45us/step - loss: 0.5484 - acc: 0.7047 - val_loss: 0.6196 - val_acc: 0.6571\n",
      "Epoch 14/100000\n",
      "307646/307646 [==============================] - 14s 45us/step - loss: 0.5480 - acc: 0.7058 - val_loss: 0.6317 - val_acc: 0.6498\n",
      "Perda Média: 0.62\n"
     ]
    }
   ],
   "source": [
    "opt_hidden_layer = 3\n",
    "mlp = Sequential()\n",
    "mlp.add(Dense(30, activation='relu', input_dim=input_dim)) # Camada de entrada\n",
    "for i in range(opt_hidden_layer):\n",
    "    mlp.add(Dense(hidden_nodes, activation='relu')) # Camada de entrada\n",
    "mlp.add(Dense(1, activation='sigmoid')) # Camada de saída\n",
    "mlp.compile(optimizer='adadelta', loss='binary_crossentropy', metrics=['acc'])\n",
    "history = mlp.fit(X_train_res, y_train_res, batch_size=32, epochs=100000, \n",
    "        callbacks=[EarlyStopping(patience=3)], validation_data=(X_val, y_val))\n",
    "print('Perda Média: %.2f'%(np.mean(history.history['val_loss'])))"
   ]
  },
  {
   "cell_type": "markdown",
   "metadata": {},
   "source": [
    "<p>Para o tamanho do batch = 32 obtivemos a menor perda.</p>"
   ]
  },
  {
   "cell_type": "code",
   "execution_count": null,
   "metadata": {},
   "outputs": [],
   "source": [
    "test_evaluation = mlp.evaluate(X_test, y_test, batch_size=32)\n",
    "print(\"Conjunto de Teste:\\n\\tPerda: %.3f\\n\\tAcurácia: %.3f\"%(test_evaluation[0],test_evaluation[1]))"
   ]
  }
 ],
 "metadata": {
  "kernelspec": {
   "display_name": "Python 3",
   "language": "python",
   "name": "python3"
  },
  "language_info": {
   "codemirror_mode": {
    "name": "ipython",
    "version": 3
   },
   "file_extension": ".py",
   "mimetype": "text/x-python",
   "name": "python",
   "nbconvert_exporter": "python",
   "pygments_lexer": "ipython3",
   "version": "3.6.4"
  }
 },
 "nbformat": 4,
 "nbformat_minor": 2
}
